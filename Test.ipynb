{
 "cells": [
  {
   "cell_type": "code",
   "execution_count": 1,
   "metadata": {},
   "outputs": [],
   "source": [
    "import numpy as np\n",
    "import pandas as pd\n",
    "import regex as re\n",
    "import matplotlib.pyplot as plt"
   ]
  },
  {
   "cell_type": "code",
   "execution_count": 2,
   "metadata": {},
   "outputs": [],
   "source": [
    "def import_text(dir1,dir2,pref1,pref2):\n",
    "    import os\n",
    "    import glob\n",
    "    \n",
    "    paths=[dir1,dir2]\n",
    "    prefx= [pref1,pref2] \n",
    "    source_data=pd.DataFrame(columns=['Name','Descriptions'])    \n",
    "       \n",
    "    for i in range(len(paths)):\n",
    "        os.chdir(paths[i])\n",
    "        name = []\n",
    "        descriptions = []\n",
    "        \n",
    "        for file in glob.glob('*.txt'):\n",
    "            name.append(file)\n",
    "            descriptions.append(open(file, encoding =\"utf8\").read()) \n",
    "            \n",
    "        Data = pd.DataFrame(\n",
    "            {     'Name': name,\n",
    "                     'Descriptions': descriptions\n",
    "                })       \n",
    "\n",
    "        Data['Name']= prefx[i]+((Data.index +1).astype(str))\n",
    "        \n",
    "        source_data=source_data.append(Data, ignore_index=True)\n",
    "    return source_data\n",
    "\n",
    "def calc_word_freq(source_data):\n",
    "    from nltk.tokenize import word_tokenize,sent_tokenize\n",
    "\n",
    "    source_data_Columns=np.array(source_data['Name'])\n",
    "    word_freq=pd.DataFrame(columns=['Elements'])\n",
    "\n",
    "    for i in range(len(source_data)):\n",
    "        A=np.sort(word_tokenize(source_data['Descriptions'][i]))          \n",
    "        B=np.unique(A,return_counts = True)\n",
    "        df= pd.DataFrame({'Elements':B[0] ,source_data_Columns[i]:B[1] })\n",
    "        word_freq=pd.merge(word_freq,df,on='Elements', how='outer')\n",
    "        #word_freq.set_index(\"Elements\", inplace = True) \n",
    "    return word_freq"
   ]
  },
  {
   "cell_type": "code",
   "execution_count": 3,
   "metadata": {},
   "outputs": [],
   "source": [
    "path1=\"C:/Users/Mahesh/Mahesh Google/Data Science Projects/NPL Sample 1/data/Covid/Set1\"\n",
    "path2=\"C:/Users/Mahesh/Mahesh Google/Data Science Projects/NPL Sample 1/data/Non Covid/Set1\"\n",
    "prefx1=\"covid\"\n",
    "prefx2=\"noncovid\"\n",
    "\n",
    "d1=import_text(path1,path2,prefx1,prefx2)\n",
    "#d1=replace_symbols(d1)\n",
    "d1=calc_word_freq(d1).replace(np.nan, 0)\n"
   ]
  },
  {
   "cell_type": "code",
   "execution_count": 4,
   "metadata": {},
   "outputs": [
    {
     "data": {
      "text/html": [
       "<div>\n",
       "<style scoped>\n",
       "    .dataframe tbody tr th:only-of-type {\n",
       "        vertical-align: middle;\n",
       "    }\n",
       "\n",
       "    .dataframe tbody tr th {\n",
       "        vertical-align: top;\n",
       "    }\n",
       "\n",
       "    .dataframe thead th {\n",
       "        text-align: right;\n",
       "    }\n",
       "</style>\n",
       "<table border=\"1\" class=\"dataframe\">\n",
       "  <thead>\n",
       "    <tr style=\"text-align: right;\">\n",
       "      <th></th>\n",
       "      <th>Elements</th>\n",
       "      <th>covid1</th>\n",
       "      <th>covid2</th>\n",
       "      <th>covid3</th>\n",
       "      <th>covid4</th>\n",
       "      <th>covid5</th>\n",
       "      <th>covid6</th>\n",
       "      <th>covid7</th>\n",
       "      <th>covid8</th>\n",
       "      <th>covid9</th>\n",
       "      <th>noncovid1</th>\n",
       "      <th>noncovid2</th>\n",
       "      <th>noncovid3</th>\n",
       "      <th>noncovid4</th>\n",
       "      <th>noncovid5</th>\n",
       "    </tr>\n",
       "  </thead>\n",
       "  <tbody>\n",
       "    <tr>\n",
       "      <th>0</th>\n",
       "      <td>(</td>\n",
       "      <td>1.0</td>\n",
       "      <td>2.0</td>\n",
       "      <td>2.0</td>\n",
       "      <td>1.0</td>\n",
       "      <td>0.0</td>\n",
       "      <td>1.0</td>\n",
       "      <td>3.0</td>\n",
       "      <td>0.0</td>\n",
       "      <td>1.0</td>\n",
       "      <td>0.0</td>\n",
       "      <td>0.0</td>\n",
       "      <td>1.0</td>\n",
       "      <td>1.0</td>\n",
       "      <td>0.0</td>\n",
       "    </tr>\n",
       "    <tr>\n",
       "      <th>1</th>\n",
       "      <td>)</td>\n",
       "      <td>1.0</td>\n",
       "      <td>2.0</td>\n",
       "      <td>2.0</td>\n",
       "      <td>0.0</td>\n",
       "      <td>0.0</td>\n",
       "      <td>0.0</td>\n",
       "      <td>0.0</td>\n",
       "      <td>0.0</td>\n",
       "      <td>0.0</td>\n",
       "      <td>0.0</td>\n",
       "      <td>0.0</td>\n",
       "      <td>1.0</td>\n",
       "      <td>0.0</td>\n",
       "      <td>0.0</td>\n",
       "    </tr>\n",
       "    <tr>\n",
       "      <th>2</th>\n",
       "      <td>,</td>\n",
       "      <td>1.0</td>\n",
       "      <td>0.0</td>\n",
       "      <td>0.0</td>\n",
       "      <td>2.0</td>\n",
       "      <td>0.0</td>\n",
       "      <td>4.0</td>\n",
       "      <td>0.0</td>\n",
       "      <td>0.0</td>\n",
       "      <td>9.0</td>\n",
       "      <td>0.0</td>\n",
       "      <td>1.0</td>\n",
       "      <td>4.0</td>\n",
       "      <td>6.0</td>\n",
       "      <td>51.0</td>\n",
       "    </tr>\n",
       "    <tr>\n",
       "      <th>3</th>\n",
       "      <td>.</td>\n",
       "      <td>12.0</td>\n",
       "      <td>15.0</td>\n",
       "      <td>17.0</td>\n",
       "      <td>16.0</td>\n",
       "      <td>4.0</td>\n",
       "      <td>18.0</td>\n",
       "      <td>8.0</td>\n",
       "      <td>5.0</td>\n",
       "      <td>31.0</td>\n",
       "      <td>5.0</td>\n",
       "      <td>82.0</td>\n",
       "      <td>99.0</td>\n",
       "      <td>56.0</td>\n",
       "      <td>110.0</td>\n",
       "    </tr>\n",
       "    <tr>\n",
       "      <th>4</th>\n",
       "      <td>19</td>\n",
       "      <td>1.0</td>\n",
       "      <td>0.0</td>\n",
       "      <td>1.0</td>\n",
       "      <td>0.0</td>\n",
       "      <td>0.0</td>\n",
       "      <td>0.0</td>\n",
       "      <td>0.0</td>\n",
       "      <td>1.0</td>\n",
       "      <td>3.0</td>\n",
       "      <td>0.0</td>\n",
       "      <td>0.0</td>\n",
       "      <td>0.0</td>\n",
       "      <td>0.0</td>\n",
       "      <td>0.0</td>\n",
       "    </tr>\n",
       "  </tbody>\n",
       "</table>\n",
       "</div>"
      ],
      "text/plain": [
       "  Elements  covid1  covid2  covid3  covid4  covid5  covid6  covid7  covid8  \\\n",
       "0        (     1.0     2.0     2.0     1.0     0.0     1.0     3.0     0.0   \n",
       "1        )     1.0     2.0     2.0     0.0     0.0     0.0     0.0     0.0   \n",
       "2        ,     1.0     0.0     0.0     2.0     0.0     4.0     0.0     0.0   \n",
       "3        .    12.0    15.0    17.0    16.0     4.0    18.0     8.0     5.0   \n",
       "4       19     1.0     0.0     1.0     0.0     0.0     0.0     0.0     1.0   \n",
       "\n",
       "   covid9  noncovid1  noncovid2  noncovid3  noncovid4  noncovid5  \n",
       "0     1.0        0.0        0.0        1.0        1.0        0.0  \n",
       "1     0.0        0.0        0.0        1.0        0.0        0.0  \n",
       "2     9.0        0.0        1.0        4.0        6.0       51.0  \n",
       "3    31.0        5.0       82.0       99.0       56.0      110.0  \n",
       "4     3.0        0.0        0.0        0.0        0.0        0.0  "
      ]
     },
     "execution_count": 4,
     "metadata": {},
     "output_type": "execute_result"
    }
   ],
   "source": [
    "d1.head()"
   ]
  },
  {
   "cell_type": "code",
   "execution_count": 5,
   "metadata": {},
   "outputs": [],
   "source": [
    "a=d1.values.T\n",
    "b=d1.columns.values\n"
   ]
  },
  {
   "cell_type": "code",
   "execution_count": 7,
   "metadata": {},
   "outputs": [
    {
     "data": {
      "text/plain": [
       "array([['Elements', '(', ')', ..., 'ළඟාවිය', 'ළපටි', '\\ufeffපෘතුගීසි'],\n",
       "       ['covid1', 1.0, 1.0, ..., 0.0, 0.0, 0.0],\n",
       "       ['covid2', 2.0, 2.0, ..., 0.0, 0.0, 0.0],\n",
       "       ...,\n",
       "       ['noncovid2', 0.0, 0.0, ..., 0.0, 0.0, 0.0],\n",
       "       ['noncovid3', 1.0, 1.0, ..., 0.0, 0.0, 0.0],\n",
       "       ['noncovid4', 1.0, 0.0, ..., 0.0, 0.0, 0.0]], dtype=object)"
      ]
     },
     "execution_count": 7,
     "metadata": {},
     "output_type": "execute_result"
    }
   ],
   "source": [
    "#Input [[dummy, token 1, token 2, token 3, ], [article name, token 1 freq, token 2 freq, ....],[],.....]\n",
    "d=[]\n",
    "\n",
    "for i in range(len(b)-1): \n",
    "    x=  np.append(b[i],a[i])\n",
    "    d.append(x)\n",
    "x=np.asarray(d)\n",
    "x"
   ]
  },
  {
   "cell_type": "code",
   "execution_count": 12,
   "metadata": {},
   "outputs": [
    {
     "data": {
      "text/plain": [
       "array([[['Elements', '(', ')', ..., 'ළඟාවිය', 'ළපටි', '\\ufeffපෘතුගීසි'],\n",
       "        ['covid1', 1.0, 1.0, ..., 0.0, 0.0, 0.0],\n",
       "        ['covid2', 2.0, 2.0, ..., 0.0, 0.0, 0.0],\n",
       "        ...,\n",
       "        ['noncovid2', 0.0, 0.0, ..., 0.0, 0.0, 0.0],\n",
       "        ['noncovid3', 1.0, 1.0, ..., 0.0, 0.0, 0.0],\n",
       "        ['noncovid4', 1.0, 0.0, ..., 0.0, 0.0, 0.0]]], dtype=object)"
      ]
     },
     "execution_count": 12,
     "metadata": {},
     "output_type": "execute_result"
    }
   ],
   "source": [
    "x[np.max(x[:,1][1:])>1]"
   ]
  },
  {
   "cell_type": "code",
   "execution_count": null,
   "metadata": {},
   "outputs": [],
   "source": [
    "                \n",
    "#Drop tokens if maximum token frequency less than\n",
    "    def drop_arti_low_freq_tokens(x, n):\n",
    "                 #Input [[dummy, token 1, token 2, token 3, ], [article name, token 1 freq, token 2 freq, ....],[],.....]\n",
    "                 #Output the same array except drop the words with letters less than n\n",
    "                \n",
    "                \n",
    "                \n",
    "        return Output"
   ]
  }
 ],
 "metadata": {
  "kernelspec": {
   "display_name": "Python 3",
   "language": "python",
   "name": "python3"
  },
  "language_info": {
   "codemirror_mode": {
    "name": "ipython",
    "version": 3
   },
   "file_extension": ".py",
   "mimetype": "text/x-python",
   "name": "python",
   "nbconvert_exporter": "python",
   "pygments_lexer": "ipython3",
   "version": "3.7.6"
  }
 },
 "nbformat": 4,
 "nbformat_minor": 4
}
